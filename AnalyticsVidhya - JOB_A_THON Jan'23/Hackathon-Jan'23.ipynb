{
 "cells": [
  {
   "cell_type": "code",
   "execution_count": 1,
   "id": "069c791a",
   "metadata": {},
   "outputs": [
    {
     "name": "stdout",
     "output_type": "stream",
     "text": [
      "Hackathon-Jan'23.ipynb\n",
      "Problem Statement.docx\n",
      "data-visualization\n",
      "sample_submission.csv\n",
      "sample_submission_9zqft7i.zip\n",
      "submission_Raj.csv\n",
      "test_koRSKBP.csv\n",
      "train_BRCpofr.csv\n",
      "~$oblem Statement.docx\n"
     ]
    }
   ],
   "source": [
    "!ls"
   ]
  },
  {
   "cell_type": "markdown",
   "id": "d1926332",
   "metadata": {},
   "source": [
    "### 1. Data Loading & managing prerequisites"
   ]
  },
  {
   "cell_type": "code",
   "execution_count": 2,
   "id": "653af26a",
   "metadata": {},
   "outputs": [],
   "source": [
    "# General Libraries\n",
    "import pandas as pd\n",
    "import numpy as np\n",
    "import seaborn as sns\n",
    "import matplotlib.pyplot as plt\n",
    "import warnings\n",
    "\n",
    "# sklearn\n",
    "from sklearn.pipeline import Pipeline\n",
    "from sklearn.compose import ColumnTransformer\n",
    "from sklearn.impute import SimpleImputer\n",
    "from sklearn.preprocessing import OneHotEncoder, OrdinalEncoder, MinMaxScaler\n",
    "from sklearn.pipeline import Pipeline,make_pipeline\n",
    "from sklearn.feature_selection import SelectKBest,chi2\n",
    "from sklearn.linear_model import LinearRegression\n",
    "from sklearn.ensemble import RandomForestRegressor\n",
    "\n",
    "#%matplotlib inline\n",
    "warnings.filterwarnings('ignore')"
   ]
  },
  {
   "cell_type": "code",
   "execution_count": 3,
   "id": "84696548",
   "metadata": {},
   "outputs": [
    {
     "data": {
      "text/html": [
       "<div>\n",
       "<style scoped>\n",
       "    .dataframe tbody tr th:only-of-type {\n",
       "        vertical-align: middle;\n",
       "    }\n",
       "\n",
       "    .dataframe tbody tr th {\n",
       "        vertical-align: top;\n",
       "    }\n",
       "\n",
       "    .dataframe thead th {\n",
       "        text-align: right;\n",
       "    }\n",
       "</style>\n",
       "<table border=\"1\" class=\"dataframe\">\n",
       "  <thead>\n",
       "    <tr style=\"text-align: right;\">\n",
       "      <th></th>\n",
       "      <th>id</th>\n",
       "      <th>gender</th>\n",
       "      <th>area</th>\n",
       "      <th>qualification</th>\n",
       "      <th>income</th>\n",
       "      <th>marital_status</th>\n",
       "      <th>vintage</th>\n",
       "      <th>claim_amount</th>\n",
       "      <th>num_policies</th>\n",
       "      <th>policy</th>\n",
       "      <th>type_of_policy</th>\n",
       "      <th>cltv</th>\n",
       "    </tr>\n",
       "  </thead>\n",
       "  <tbody>\n",
       "    <tr>\n",
       "      <th>0</th>\n",
       "      <td>1</td>\n",
       "      <td>Male</td>\n",
       "      <td>Urban</td>\n",
       "      <td>Bachelor</td>\n",
       "      <td>5L-10L</td>\n",
       "      <td>1</td>\n",
       "      <td>5</td>\n",
       "      <td>5790</td>\n",
       "      <td>More than 1</td>\n",
       "      <td>A</td>\n",
       "      <td>Platinum</td>\n",
       "      <td>64308</td>\n",
       "    </tr>\n",
       "    <tr>\n",
       "      <th>1</th>\n",
       "      <td>2</td>\n",
       "      <td>Male</td>\n",
       "      <td>Rural</td>\n",
       "      <td>High School</td>\n",
       "      <td>5L-10L</td>\n",
       "      <td>0</td>\n",
       "      <td>8</td>\n",
       "      <td>5080</td>\n",
       "      <td>More than 1</td>\n",
       "      <td>A</td>\n",
       "      <td>Platinum</td>\n",
       "      <td>515400</td>\n",
       "    </tr>\n",
       "    <tr>\n",
       "      <th>2</th>\n",
       "      <td>3</td>\n",
       "      <td>Male</td>\n",
       "      <td>Urban</td>\n",
       "      <td>Bachelor</td>\n",
       "      <td>5L-10L</td>\n",
       "      <td>1</td>\n",
       "      <td>8</td>\n",
       "      <td>2599</td>\n",
       "      <td>More than 1</td>\n",
       "      <td>A</td>\n",
       "      <td>Platinum</td>\n",
       "      <td>64212</td>\n",
       "    </tr>\n",
       "    <tr>\n",
       "      <th>3</th>\n",
       "      <td>4</td>\n",
       "      <td>Female</td>\n",
       "      <td>Rural</td>\n",
       "      <td>High School</td>\n",
       "      <td>5L-10L</td>\n",
       "      <td>0</td>\n",
       "      <td>7</td>\n",
       "      <td>0</td>\n",
       "      <td>More than 1</td>\n",
       "      <td>A</td>\n",
       "      <td>Platinum</td>\n",
       "      <td>97920</td>\n",
       "    </tr>\n",
       "    <tr>\n",
       "      <th>4</th>\n",
       "      <td>5</td>\n",
       "      <td>Male</td>\n",
       "      <td>Urban</td>\n",
       "      <td>High School</td>\n",
       "      <td>More than 10L</td>\n",
       "      <td>1</td>\n",
       "      <td>6</td>\n",
       "      <td>3508</td>\n",
       "      <td>More than 1</td>\n",
       "      <td>A</td>\n",
       "      <td>Gold</td>\n",
       "      <td>59736</td>\n",
       "    </tr>\n",
       "  </tbody>\n",
       "</table>\n",
       "</div>"
      ],
      "text/plain": [
       "   id  gender   area qualification         income  marital_status  vintage  \\\n",
       "0   1    Male  Urban      Bachelor         5L-10L               1        5   \n",
       "1   2    Male  Rural   High School         5L-10L               0        8   \n",
       "2   3    Male  Urban      Bachelor         5L-10L               1        8   \n",
       "3   4  Female  Rural   High School         5L-10L               0        7   \n",
       "4   5    Male  Urban   High School  More than 10L               1        6   \n",
       "\n",
       "   claim_amount num_policies policy type_of_policy    cltv  \n",
       "0          5790  More than 1      A       Platinum   64308  \n",
       "1          5080  More than 1      A       Platinum  515400  \n",
       "2          2599  More than 1      A       Platinum   64212  \n",
       "3             0  More than 1      A       Platinum   97920  \n",
       "4          3508  More than 1      A           Gold   59736  "
      ]
     },
     "execution_count": 3,
     "metadata": {},
     "output_type": "execute_result"
    }
   ],
   "source": [
    "train = pd.read_csv(\"train_BRCpofr.csv\")\n",
    "train.head()"
   ]
  },
  {
   "cell_type": "markdown",
   "id": "9183b00a",
   "metadata": {},
   "source": [
    "## 2. Data Understanding (DS + EDA)"
   ]
  },
  {
   "cell_type": "code",
   "execution_count": 4,
   "id": "71550266",
   "metadata": {
    "scrolled": true
   },
   "outputs": [
    {
     "name": "stdout",
     "output_type": "stream",
     "text": [
      "<class 'pandas.core.frame.DataFrame'>\n",
      "RangeIndex: 89392 entries, 0 to 89391\n",
      "Data columns (total 12 columns):\n",
      " #   Column          Non-Null Count  Dtype \n",
      "---  ------          --------------  ----- \n",
      " 0   id              89392 non-null  int64 \n",
      " 1   gender          89392 non-null  object\n",
      " 2   area            89392 non-null  object\n",
      " 3   qualification   89392 non-null  object\n",
      " 4   income          89392 non-null  object\n",
      " 5   marital_status  89392 non-null  int64 \n",
      " 6   vintage         89392 non-null  int64 \n",
      " 7   claim_amount    89392 non-null  int64 \n",
      " 8   num_policies    89392 non-null  object\n",
      " 9   policy          89392 non-null  object\n",
      " 10  type_of_policy  89392 non-null  object\n",
      " 11  cltv            89392 non-null  int64 \n",
      "dtypes: int64(5), object(7)\n",
      "memory usage: 8.2+ MB\n"
     ]
    }
   ],
   "source": [
    "train.info()"
   ]
  },
  {
   "cell_type": "code",
   "execution_count": 5,
   "id": "fa291dfa",
   "metadata": {},
   "outputs": [
    {
     "data": {
      "text/html": [
       "<div>\n",
       "<style scoped>\n",
       "    .dataframe tbody tr th:only-of-type {\n",
       "        vertical-align: middle;\n",
       "    }\n",
       "\n",
       "    .dataframe tbody tr th {\n",
       "        vertical-align: top;\n",
       "    }\n",
       "\n",
       "    .dataframe thead th {\n",
       "        text-align: right;\n",
       "    }\n",
       "</style>\n",
       "<table border=\"1\" class=\"dataframe\">\n",
       "  <thead>\n",
       "    <tr style=\"text-align: right;\">\n",
       "      <th></th>\n",
       "      <th>id</th>\n",
       "      <th>marital_status</th>\n",
       "      <th>vintage</th>\n",
       "      <th>claim_amount</th>\n",
       "      <th>cltv</th>\n",
       "    </tr>\n",
       "  </thead>\n",
       "  <tbody>\n",
       "    <tr>\n",
       "      <th>count</th>\n",
       "      <td>89392.000000</td>\n",
       "      <td>89392.000000</td>\n",
       "      <td>89392.000000</td>\n",
       "      <td>89392.000000</td>\n",
       "      <td>89392.000000</td>\n",
       "    </tr>\n",
       "    <tr>\n",
       "      <th>mean</th>\n",
       "      <td>44696.500000</td>\n",
       "      <td>0.575488</td>\n",
       "      <td>4.595669</td>\n",
       "      <td>4351.502416</td>\n",
       "      <td>97952.828978</td>\n",
       "    </tr>\n",
       "    <tr>\n",
       "      <th>std</th>\n",
       "      <td>25805.391969</td>\n",
       "      <td>0.494272</td>\n",
       "      <td>2.290446</td>\n",
       "      <td>3262.359775</td>\n",
       "      <td>90613.814793</td>\n",
       "    </tr>\n",
       "    <tr>\n",
       "      <th>min</th>\n",
       "      <td>1.000000</td>\n",
       "      <td>0.000000</td>\n",
       "      <td>0.000000</td>\n",
       "      <td>0.000000</td>\n",
       "      <td>24828.000000</td>\n",
       "    </tr>\n",
       "    <tr>\n",
       "      <th>25%</th>\n",
       "      <td>22348.750000</td>\n",
       "      <td>0.000000</td>\n",
       "      <td>3.000000</td>\n",
       "      <td>2406.000000</td>\n",
       "      <td>52836.000000</td>\n",
       "    </tr>\n",
       "    <tr>\n",
       "      <th>50%</th>\n",
       "      <td>44696.500000</td>\n",
       "      <td>1.000000</td>\n",
       "      <td>5.000000</td>\n",
       "      <td>4089.000000</td>\n",
       "      <td>66396.000000</td>\n",
       "    </tr>\n",
       "    <tr>\n",
       "      <th>75%</th>\n",
       "      <td>67044.250000</td>\n",
       "      <td>1.000000</td>\n",
       "      <td>6.000000</td>\n",
       "      <td>6094.000000</td>\n",
       "      <td>103440.000000</td>\n",
       "    </tr>\n",
       "    <tr>\n",
       "      <th>max</th>\n",
       "      <td>89392.000000</td>\n",
       "      <td>1.000000</td>\n",
       "      <td>8.000000</td>\n",
       "      <td>31894.000000</td>\n",
       "      <td>724068.000000</td>\n",
       "    </tr>\n",
       "  </tbody>\n",
       "</table>\n",
       "</div>"
      ],
      "text/plain": [
       "                 id  marital_status       vintage  claim_amount           cltv\n",
       "count  89392.000000    89392.000000  89392.000000  89392.000000   89392.000000\n",
       "mean   44696.500000        0.575488      4.595669   4351.502416   97952.828978\n",
       "std    25805.391969        0.494272      2.290446   3262.359775   90613.814793\n",
       "min        1.000000        0.000000      0.000000      0.000000   24828.000000\n",
       "25%    22348.750000        0.000000      3.000000   2406.000000   52836.000000\n",
       "50%    44696.500000        1.000000      5.000000   4089.000000   66396.000000\n",
       "75%    67044.250000        1.000000      6.000000   6094.000000  103440.000000\n",
       "max    89392.000000        1.000000      8.000000  31894.000000  724068.000000"
      ]
     },
     "execution_count": 5,
     "metadata": {},
     "output_type": "execute_result"
    }
   ],
   "source": [
    "train.describe()"
   ]
  },
  {
   "cell_type": "markdown",
   "id": "d8f10fc6",
   "metadata": {},
   "source": [
    "#### Understanding Categorical columns"
   ]
  },
  {
   "cell_type": "code",
   "execution_count": 6,
   "id": "a0529f00",
   "metadata": {},
   "outputs": [],
   "source": [
    "num_cols = [\"claim_amount\",\"cltv\"]\n",
    "cat_cols = train.columns[~train.columns.isin(num_cols)]"
   ]
  },
  {
   "cell_type": "code",
   "execution_count": 7,
   "id": "0e72d6c9",
   "metadata": {},
   "outputs": [
    {
     "name": "stdout",
     "output_type": "stream",
     "text": [
      "############## Checking unique categories per column ############## \n",
      "\n",
      "Total unique categories in column id             : [    1     2     3 ... 89390 89391 89392]\n",
      "Number for samples per category: \n",
      " 2049     1\n",
      "77135    1\n",
      "28007    1\n",
      "25958    1\n",
      "32101    1\n",
      "        ..\n",
      "27288    1\n",
      "4759     1\n",
      "6806     1\n",
      "661      1\n",
      "2047     1\n",
      "Name: id, Length: 89392, dtype: int64\n",
      "--------------------------\n",
      "Total unique categories in column gender         : ['Male' 'Female']\n",
      "Number for samples per category: \n",
      " Male      50497\n",
      "Female    38895\n",
      "Name: gender, dtype: int64\n",
      "--------------------------\n",
      "Total unique categories in column area           : ['Urban' 'Rural']\n",
      "Number for samples per category: \n",
      " Urban    62455\n",
      "Rural    26937\n",
      "Name: area, dtype: int64\n",
      "--------------------------\n",
      "Total unique categories in column qualification  : ['Bachelor' 'High School' 'Others']\n",
      "Number for samples per category: \n",
      " High School    46247\n",
      "Bachelor       39399\n",
      "Others          3746\n",
      "Name: qualification, dtype: int64\n",
      "--------------------------\n",
      "Total unique categories in column income         : ['5L-10L' 'More than 10L' '2L-5L' '<=2L']\n",
      "Number for samples per category: \n",
      " 5L-10L           52716\n",
      "2L-5L            21158\n",
      "More than 10L    13664\n",
      "<=2L              1854\n",
      "Name: income, dtype: int64\n",
      "--------------------------\n",
      "Total unique categories in column marital_status : [1 0]\n",
      "Number for samples per category: \n",
      " 1    51444\n",
      "0    37948\n",
      "Name: marital_status, dtype: int64\n",
      "--------------------------\n",
      "Total unique categories in column vintage        : [5 8 7 6 1 0 3 4 2]\n",
      "Number for samples per category: \n",
      " 6    17769\n",
      "7    13095\n",
      "5    12481\n",
      "4    10471\n",
      "2     9165\n",
      "1     7671\n",
      "8     7624\n",
      "3     7085\n",
      "0     4031\n",
      "Name: vintage, dtype: int64\n",
      "--------------------------\n",
      "Total unique categories in column num_policies   : ['More than 1' '1']\n",
      "Number for samples per category: \n",
      " More than 1    60263\n",
      "1              29129\n",
      "Name: num_policies, dtype: int64\n",
      "--------------------------\n",
      "Total unique categories in column policy         : ['A' 'C' 'B']\n",
      "Number for samples per category: \n",
      " A    56644\n",
      "B    24635\n",
      "C     8113\n",
      "Name: policy, dtype: int64\n",
      "--------------------------\n",
      "Total unique categories in column type_of_policy : ['Platinum' 'Gold' 'Silver']\n",
      "Number for samples per category: \n",
      " Platinum    47796\n",
      "Silver      21010\n",
      "Gold        20586\n",
      "Name: type_of_policy, dtype: int64\n",
      "--------------------------\n"
     ]
    }
   ],
   "source": [
    "print(\"############## Checking unique categories per column ############## \\n\")\n",
    "for cat in cat_cols:\n",
    "    print(f\"Total unique categories in column {cat:15}: {train[cat].unique()}\")\n",
    "    print(f\"Number for samples per category: \\n {train[cat].value_counts()}\")\n",
    "    print(\"--------------------------\")"
   ]
  },
  {
   "cell_type": "markdown",
   "id": "a4535adc",
   "metadata": {},
   "source": [
    "## 3. Feature Engineering"
   ]
  },
  {
   "cell_type": "code",
   "execution_count": 8,
   "id": "142650d6",
   "metadata": {},
   "outputs": [],
   "source": [
    "train = train.drop('id', axis=1)"
   ]
  },
  {
   "cell_type": "markdown",
   "id": "f0f2db24",
   "metadata": {},
   "source": [
    "#### Missing values impution"
   ]
  },
  {
   "cell_type": "code",
   "execution_count": 9,
   "id": "7807d1be",
   "metadata": {},
   "outputs": [
    {
     "data": {
      "text/plain": [
       "gender            0\n",
       "area              0\n",
       "qualification     0\n",
       "income            0\n",
       "marital_status    0\n",
       "vintage           0\n",
       "claim_amount      0\n",
       "num_policies      0\n",
       "policy            0\n",
       "type_of_policy    0\n",
       "cltv              0\n",
       "dtype: int64"
      ]
     },
     "execution_count": 9,
     "metadata": {},
     "output_type": "execute_result"
    }
   ],
   "source": [
    "train.isna().sum()"
   ]
  },
  {
   "cell_type": "code",
   "execution_count": 10,
   "id": "e19c35a6",
   "metadata": {},
   "outputs": [],
   "source": [
    "# Ordinal Categorical columns: categorical and ordered\n",
    "ord_cat_col = ['vintage', 'income', 'type_of_policy']\n",
    "# Nominal Categorical columns: categorical and not ordered\n",
    "nom_cat_col = cat_cols[~cat_cols.isin(ord_cat_col)].to_list()"
   ]
  },
  {
   "cell_type": "code",
   "execution_count": 11,
   "id": "31a3c0a1",
   "metadata": {},
   "outputs": [
    {
     "name": "stdout",
     "output_type": "stream",
     "text": [
      "Numerical Columns: ['claim_amount', 'cltv']\n",
      "Categorical Columns: ['id', 'gender', 'area', 'qualification', 'income', 'marital_status', 'vintage', 'num_policies', 'policy', 'type_of_policy']\n",
      "Ordinal Columns: ['vintage', 'income', 'type_of_policy']\n",
      "Nominal Columns: ['id', 'gender', 'area', 'qualification', 'marital_status', 'num_policies', 'policy']\n"
     ]
    }
   ],
   "source": [
    "print(f\"Numerical Columns: {num_cols}\")\n",
    "print(f\"Categorical Columns: {cat_cols.tolist()}\")\n",
    "print(f\"Ordinal Columns: {ord_cat_col}\")\n",
    "print(f\"Nominal Columns: {nom_cat_col}\")"
   ]
  },
  {
   "cell_type": "markdown",
   "id": "1140c56e",
   "metadata": {},
   "source": [
    "**Common encoders supported by sklearn:**\n",
    "- Ordinal Encoder for ordered categorical columns\n",
    "- One-hot Encoder for non-ordered categorical columns\n",
    "- Label Encoder for encoding output labels"
   ]
  },
  {
   "cell_type": "markdown",
   "id": "1deee825",
   "metadata": {},
   "source": [
    "**Components of Pipeline:**\n",
    "\n",
    "    [x]Imputation\n",
    "    [x]Encoding\n",
    "    [x]Scaling\n",
    "    [x]Feature Selection\n",
    "    [x]Model Training"
   ]
  },
  {
   "cell_type": "code",
   "execution_count": 12,
   "id": "582782fd",
   "metadata": {},
   "outputs": [],
   "source": [
    "y_train = train.pop('cltv')\n",
    "x_train = train"
   ]
  },
  {
   "cell_type": "markdown",
   "id": "99d5f6f7",
   "metadata": {},
   "source": [
    "### 3.1. Missing value imputation: SimpleImputer"
   ]
  },
  {
   "cell_type": "code",
   "execution_count": 13,
   "id": "6899c0ce",
   "metadata": {},
   "outputs": [],
   "source": [
    "tnfObj1 = ColumnTransformer([\n",
    "    ('impute_numirical', SimpleImputer(strategy='mean'), [6]), # For Numerical columns\n",
    "    ('impute_categorical', SimpleImputer(strategy='most_frequent'), [0,1,2,3,4,5,7,8,9]) # For categorical columns\n",
    "],remainder='passthrough')"
   ]
  },
  {
   "cell_type": "markdown",
   "id": "6b2848d1",
   "metadata": {},
   "source": [
    "### 3.2. Encoding categorical columns: OrdinalEncoder | OneHotEncoder"
   ]
  },
  {
   "cell_type": "code",
   "execution_count": 14,
   "id": "c1cf0448",
   "metadata": {
    "scrolled": true
   },
   "outputs": [],
   "source": [
    "tnfObj2 = ColumnTransformer([\n",
    "    ('Ordinal_Encoder', OrdinalEncoder([['<=2L', '2L-5L', '5L-10L', 'More than 10L'], ['Silver', 'Gold', 'Platinum']]),[4,9]),\n",
    "    ('OneHot_Encoder', OneHotEncoder(sparse=False, drop='if_binary'), [1,2,3,8,7])\n",
    "],remainder='passthrough')"
   ]
  },
  {
   "cell_type": "markdown",
   "id": "6df81860",
   "metadata": {},
   "source": [
    "### 3.3. Scaling Regressors: MinMaxScaler "
   ]
  },
  {
   "cell_type": "code",
   "execution_count": 15,
   "id": "8b1e2b8f",
   "metadata": {},
   "outputs": [],
   "source": [
    "tnfObj3 = ColumnTransformer([\n",
    "    ('MinMax_Scaler',MinMaxScaler(),slice(0,14))], remainder='passthrough'\n",
    ")"
   ]
  },
  {
   "cell_type": "markdown",
   "id": "3c63b830",
   "metadata": {},
   "source": [
    "### 3.4. Feature Selecion"
   ]
  },
  {
   "cell_type": "code",
   "execution_count": 16,
   "id": "f943c662",
   "metadata": {},
   "outputs": [],
   "source": [
    "tnfObj4 = SelectKBest(score_func=chi2,k=10)"
   ]
  },
  {
   "cell_type": "markdown",
   "id": "a2ac6147",
   "metadata": {},
   "source": [
    "## 4. Model Selecion"
   ]
  },
  {
   "cell_type": "code",
   "execution_count": 17,
   "id": "84279fd1",
   "metadata": {},
   "outputs": [
    {
     "name": "stdout",
     "output_type": "stream",
     "text": [
      "Choose model: \n",
      " 1. Linear Regression \n",
      " 2. RandomForestRegressor \n",
      "2\n"
     ]
    }
   ],
   "source": [
    "model = input(\"Choose model: \\n 1. Linear Regression \\n 2. RandomForestRegressor \\n\")\n",
    "if model == '1':\n",
    "    tnfObj5 = LinearRegression()\n",
    "elif model == '2':\n",
    "    tnfObj5 = RandomForestRegressor()"
   ]
  },
  {
   "cell_type": "markdown",
   "id": "d4cc6ca3",
   "metadata": {},
   "source": [
    "## 5. Creating and training Pipeline"
   ]
  },
  {
   "cell_type": "code",
   "execution_count": 18,
   "id": "236493bd",
   "metadata": {},
   "outputs": [],
   "source": [
    "pipe = Pipeline([\n",
    "    ('tnfObj1',tnfObj1),\n",
    "    ('tnfObj2',tnfObj2),\n",
    "    ('tnfObj3',tnfObj3),\n",
    "    ('tnfObj4',tnfObj4),\n",
    "    ('tnfObj5',tnfObj5)\n",
    "])"
   ]
  },
  {
   "cell_type": "code",
   "execution_count": 19,
   "id": "dc2b8b16",
   "metadata": {},
   "outputs": [],
   "source": [
    "from sklearn import set_config\n",
    "set_config(display=\"diagram\")"
   ]
  },
  {
   "cell_type": "code",
   "execution_count": 20,
   "id": "f7d8af40",
   "metadata": {},
   "outputs": [
    {
     "data": {
      "text/html": [
       "<style>div.sk-top-container {color: black;background-color: white;}div.sk-toggleable {background-color: white;}label.sk-toggleable__label {cursor: pointer;display: block;width: 100%;margin-bottom: 0;padding: 0.2em 0.3em;box-sizing: border-box;text-align: center;}div.sk-toggleable__content {max-height: 0;max-width: 0;overflow: hidden;text-align: left;background-color: #f0f8ff;}div.sk-toggleable__content pre {margin: 0.2em;color: black;border-radius: 0.25em;background-color: #f0f8ff;}input.sk-toggleable__control:checked~div.sk-toggleable__content {max-height: 200px;max-width: 100%;overflow: auto;}div.sk-estimator input.sk-toggleable__control:checked~label.sk-toggleable__label {background-color: #d4ebff;}div.sk-label input.sk-toggleable__control:checked~label.sk-toggleable__label {background-color: #d4ebff;}input.sk-hidden--visually {border: 0;clip: rect(1px 1px 1px 1px);clip: rect(1px, 1px, 1px, 1px);height: 1px;margin: -1px;overflow: hidden;padding: 0;position: absolute;width: 1px;}div.sk-estimator {font-family: monospace;background-color: #f0f8ff;margin: 0.25em 0.25em;border: 1px dotted black;border-radius: 0.25em;box-sizing: border-box;}div.sk-estimator:hover {background-color: #d4ebff;}div.sk-parallel-item::after {content: \"\";width: 100%;border-bottom: 1px solid gray;flex-grow: 1;}div.sk-label:hover label.sk-toggleable__label {background-color: #d4ebff;}div.sk-serial::before {content: \"\";position: absolute;border-left: 1px solid gray;box-sizing: border-box;top: 2em;bottom: 0;left: 50%;}div.sk-serial {display: flex;flex-direction: column;align-items: center;background-color: white;}div.sk-item {z-index: 1;}div.sk-parallel {display: flex;align-items: stretch;justify-content: center;background-color: white;}div.sk-parallel-item {display: flex;flex-direction: column;position: relative;background-color: white;}div.sk-parallel-item:first-child::after {align-self: flex-end;width: 50%;}div.sk-parallel-item:last-child::after {align-self: flex-start;width: 50%;}div.sk-parallel-item:only-child::after {width: 0;}div.sk-dashed-wrapped {border: 1px dashed gray;margin: 0.2em;box-sizing: border-box;padding-bottom: 0.1em;background-color: white;position: relative;}div.sk-label label {font-family: monospace;font-weight: bold;background-color: white;display: inline-block;line-height: 1.2em;}div.sk-label-container {position: relative;z-index: 2;text-align: center;}div.sk-container {display: inline-block;position: relative;}</style><div class=\"sk-top-container\"><div class=\"sk-container\"><div class=\"sk-item sk-dashed-wrapped\"><div class=\"sk-label-container\"><div class=\"sk-label sk-toggleable\"><input class=\"sk-toggleable__control sk-hidden--visually\" id=\"ffddbecc-9390-40d2-887b-25ce5e430688\" type=\"checkbox\" ><label class=\"sk-toggleable__label\" for=\"ffddbecc-9390-40d2-887b-25ce5e430688\">Pipeline</label><div class=\"sk-toggleable__content\"><pre>Pipeline(steps=[('tnfObj1',\n",
       "                 ColumnTransformer(remainder='passthrough',\n",
       "                                   transformers=[('impute_numirical',\n",
       "                                                  SimpleImputer(), [6]),\n",
       "                                                 ('impute_categorical',\n",
       "                                                  SimpleImputer(strategy='most_frequent'),\n",
       "                                                  [0, 1, 2, 3, 4, 5, 7, 8,\n",
       "                                                   9])])),\n",
       "                ('tnfObj2',\n",
       "                 ColumnTransformer(remainder='passthrough',\n",
       "                                   transformers=[('Ordinal_Encoder',\n",
       "                                                  OrdinalEncoder(categories=[['<=2L',\n",
       "                                                                              '2L-5L',\n",
       "                                                                              '5L-10L',\n",
       "                                                                              'M...\n",
       "                                                                              '10L'],\n",
       "                                                                             ['Silver',\n",
       "                                                                              'Gold',\n",
       "                                                                              'Platinum']]),\n",
       "                                                  [4, 9]),\n",
       "                                                 ('OneHot_Encoder',\n",
       "                                                  OneHotEncoder(drop='if_binary',\n",
       "                                                                sparse=False),\n",
       "                                                  [1, 2, 3, 8, 7])])),\n",
       "                ('tnfObj3',\n",
       "                 ColumnTransformer(remainder='passthrough',\n",
       "                                   transformers=[('MinMax_Scaler',\n",
       "                                                  MinMaxScaler(),\n",
       "                                                  slice(0, 14, None))])),\n",
       "                ('tnfObj4',\n",
       "                 SelectKBest(score_func=<function chi2 at 0x0000025D4F9CAF70>)),\n",
       "                ('tnfObj5', RandomForestRegressor())])</pre></div></div></div><div class=\"sk-serial\"><div class=\"sk-item sk-dashed-wrapped\"><div class=\"sk-label-container\"><div class=\"sk-label sk-toggleable\"><input class=\"sk-toggleable__control sk-hidden--visually\" id=\"cf7c86d7-c00c-490a-a5d3-9db5bbd98db9\" type=\"checkbox\" ><label class=\"sk-toggleable__label\" for=\"cf7c86d7-c00c-490a-a5d3-9db5bbd98db9\">tnfObj1: ColumnTransformer</label><div class=\"sk-toggleable__content\"><pre>ColumnTransformer(remainder='passthrough',\n",
       "                  transformers=[('impute_numirical', SimpleImputer(), [6]),\n",
       "                                ('impute_categorical',\n",
       "                                 SimpleImputer(strategy='most_frequent'),\n",
       "                                 [0, 1, 2, 3, 4, 5, 7, 8, 9])])</pre></div></div></div><div class=\"sk-parallel\"><div class=\"sk-parallel-item\"><div class=\"sk-item\"><div class=\"sk-label-container\"><div class=\"sk-label sk-toggleable\"><input class=\"sk-toggleable__control sk-hidden--visually\" id=\"e56bda19-a35a-4ccc-a328-792686125403\" type=\"checkbox\" ><label class=\"sk-toggleable__label\" for=\"e56bda19-a35a-4ccc-a328-792686125403\">impute_numirical</label><div class=\"sk-toggleable__content\"><pre>[6]</pre></div></div></div><div class=\"sk-serial\"><div class=\"sk-item\"><div class=\"sk-estimator sk-toggleable\"><input class=\"sk-toggleable__control sk-hidden--visually\" id=\"bc9e0649-354b-4a32-9bf1-1b414ea6259b\" type=\"checkbox\" ><label class=\"sk-toggleable__label\" for=\"bc9e0649-354b-4a32-9bf1-1b414ea6259b\">SimpleImputer</label><div class=\"sk-toggleable__content\"><pre>SimpleImputer()</pre></div></div></div></div></div></div><div class=\"sk-parallel-item\"><div class=\"sk-item\"><div class=\"sk-label-container\"><div class=\"sk-label sk-toggleable\"><input class=\"sk-toggleable__control sk-hidden--visually\" id=\"cf42d6f3-476e-4004-93bc-7663126e9a9b\" type=\"checkbox\" ><label class=\"sk-toggleable__label\" for=\"cf42d6f3-476e-4004-93bc-7663126e9a9b\">impute_categorical</label><div class=\"sk-toggleable__content\"><pre>[0, 1, 2, 3, 4, 5, 7, 8, 9]</pre></div></div></div><div class=\"sk-serial\"><div class=\"sk-item\"><div class=\"sk-estimator sk-toggleable\"><input class=\"sk-toggleable__control sk-hidden--visually\" id=\"6c693b97-0102-4b5a-8804-42a4380c97cb\" type=\"checkbox\" ><label class=\"sk-toggleable__label\" for=\"6c693b97-0102-4b5a-8804-42a4380c97cb\">SimpleImputer</label><div class=\"sk-toggleable__content\"><pre>SimpleImputer(strategy='most_frequent')</pre></div></div></div></div></div></div><div class=\"sk-parallel-item\"><div class=\"sk-item\"><div class=\"sk-label-container\"><div class=\"sk-label sk-toggleable\"><input class=\"sk-toggleable__control sk-hidden--visually\" id=\"d94b1421-bcb0-4919-950e-7b7000079e95\" type=\"checkbox\" ><label class=\"sk-toggleable__label\" for=\"d94b1421-bcb0-4919-950e-7b7000079e95\">remainder</label><div class=\"sk-toggleable__content\"><pre>[['gender', 'area', 'qualification', 'income', 'marital_status', 'vintage', 'claim_amount', 'num_policies', 'policy', 'type_of_policy']]</pre></div></div></div><div class=\"sk-serial\"><div class=\"sk-item\"><div class=\"sk-estimator sk-toggleable\"><input class=\"sk-toggleable__control sk-hidden--visually\" id=\"4ab41d30-f3ac-49b7-8600-73490f6870ad\" type=\"checkbox\" ><label class=\"sk-toggleable__label\" for=\"4ab41d30-f3ac-49b7-8600-73490f6870ad\">passthrough</label><div class=\"sk-toggleable__content\"><pre>passthrough</pre></div></div></div></div></div></div></div></div><div class=\"sk-item sk-dashed-wrapped\"><div class=\"sk-label-container\"><div class=\"sk-label sk-toggleable\"><input class=\"sk-toggleable__control sk-hidden--visually\" id=\"dcd9aba0-06cf-43cb-83f5-5fbfb3d9cfbd\" type=\"checkbox\" ><label class=\"sk-toggleable__label\" for=\"dcd9aba0-06cf-43cb-83f5-5fbfb3d9cfbd\">tnfObj2: ColumnTransformer</label><div class=\"sk-toggleable__content\"><pre>ColumnTransformer(remainder='passthrough',\n",
       "                  transformers=[('Ordinal_Encoder',\n",
       "                                 OrdinalEncoder(categories=[['<=2L', '2L-5L',\n",
       "                                                             '5L-10L',\n",
       "                                                             'More than 10L'],\n",
       "                                                            ['Silver', 'Gold',\n",
       "                                                             'Platinum']]),\n",
       "                                 [4, 9]),\n",
       "                                ('OneHot_Encoder',\n",
       "                                 OneHotEncoder(drop='if_binary', sparse=False),\n",
       "                                 [1, 2, 3, 8, 7])])</pre></div></div></div><div class=\"sk-parallel\"><div class=\"sk-parallel-item\"><div class=\"sk-item\"><div class=\"sk-label-container\"><div class=\"sk-label sk-toggleable\"><input class=\"sk-toggleable__control sk-hidden--visually\" id=\"146c6184-fc5e-4d86-8b64-35d455b55058\" type=\"checkbox\" ><label class=\"sk-toggleable__label\" for=\"146c6184-fc5e-4d86-8b64-35d455b55058\">Ordinal_Encoder</label><div class=\"sk-toggleable__content\"><pre>[4, 9]</pre></div></div></div><div class=\"sk-serial\"><div class=\"sk-item\"><div class=\"sk-estimator sk-toggleable\"><input class=\"sk-toggleable__control sk-hidden--visually\" id=\"4cd6c2aa-096e-4b40-8265-75f556f7b23e\" type=\"checkbox\" ><label class=\"sk-toggleable__label\" for=\"4cd6c2aa-096e-4b40-8265-75f556f7b23e\">OrdinalEncoder</label><div class=\"sk-toggleable__content\"><pre>OrdinalEncoder(categories=[['<=2L', '2L-5L', '5L-10L', 'More than 10L'],\n",
       "                           ['Silver', 'Gold', 'Platinum']])</pre></div></div></div></div></div></div><div class=\"sk-parallel-item\"><div class=\"sk-item\"><div class=\"sk-label-container\"><div class=\"sk-label sk-toggleable\"><input class=\"sk-toggleable__control sk-hidden--visually\" id=\"f9981d99-2653-4bf7-a28d-366dce987eb9\" type=\"checkbox\" ><label class=\"sk-toggleable__label\" for=\"f9981d99-2653-4bf7-a28d-366dce987eb9\">OneHot_Encoder</label><div class=\"sk-toggleable__content\"><pre>[1, 2, 3, 8, 7]</pre></div></div></div><div class=\"sk-serial\"><div class=\"sk-item\"><div class=\"sk-estimator sk-toggleable\"><input class=\"sk-toggleable__control sk-hidden--visually\" id=\"faf770ce-8ba3-4687-b874-b77d0a96251c\" type=\"checkbox\" ><label class=\"sk-toggleable__label\" for=\"faf770ce-8ba3-4687-b874-b77d0a96251c\">OneHotEncoder</label><div class=\"sk-toggleable__content\"><pre>OneHotEncoder(drop='if_binary', sparse=False)</pre></div></div></div></div></div></div><div class=\"sk-parallel-item\"><div class=\"sk-item\"><div class=\"sk-label-container\"><div class=\"sk-label sk-toggleable\"><input class=\"sk-toggleable__control sk-hidden--visually\" id=\"7e08b07e-5f4f-4dea-80b6-bdf19112e363\" type=\"checkbox\" ><label class=\"sk-toggleable__label\" for=\"7e08b07e-5f4f-4dea-80b6-bdf19112e363\">remainder</label><div class=\"sk-toggleable__content\"><pre>[0, 5, 6]</pre></div></div></div><div class=\"sk-serial\"><div class=\"sk-item\"><div class=\"sk-estimator sk-toggleable\"><input class=\"sk-toggleable__control sk-hidden--visually\" id=\"90b1a835-176f-4321-8000-4bc71086fc20\" type=\"checkbox\" ><label class=\"sk-toggleable__label\" for=\"90b1a835-176f-4321-8000-4bc71086fc20\">passthrough</label><div class=\"sk-toggleable__content\"><pre>passthrough</pre></div></div></div></div></div></div></div></div><div class=\"sk-item sk-dashed-wrapped\"><div class=\"sk-label-container\"><div class=\"sk-label sk-toggleable\"><input class=\"sk-toggleable__control sk-hidden--visually\" id=\"88185991-25bc-4761-b13e-61d8e1099bdc\" type=\"checkbox\" ><label class=\"sk-toggleable__label\" for=\"88185991-25bc-4761-b13e-61d8e1099bdc\">tnfObj3: ColumnTransformer</label><div class=\"sk-toggleable__content\"><pre>ColumnTransformer(remainder='passthrough',\n",
       "                  transformers=[('MinMax_Scaler', MinMaxScaler(),\n",
       "                                 slice(0, 14, None))])</pre></div></div></div><div class=\"sk-parallel\"><div class=\"sk-parallel-item\"><div class=\"sk-item\"><div class=\"sk-label-container\"><div class=\"sk-label sk-toggleable\"><input class=\"sk-toggleable__control sk-hidden--visually\" id=\"335cb856-6c44-46ab-94a5-8f1602b0b195\" type=\"checkbox\" ><label class=\"sk-toggleable__label\" for=\"335cb856-6c44-46ab-94a5-8f1602b0b195\">MinMax_Scaler</label><div class=\"sk-toggleable__content\"><pre>slice(0, 14, None)</pre></div></div></div><div class=\"sk-serial\"><div class=\"sk-item\"><div class=\"sk-estimator sk-toggleable\"><input class=\"sk-toggleable__control sk-hidden--visually\" id=\"be974da2-b7be-428d-8926-6942559427fd\" type=\"checkbox\" ><label class=\"sk-toggleable__label\" for=\"be974da2-b7be-428d-8926-6942559427fd\">MinMaxScaler</label><div class=\"sk-toggleable__content\"><pre>MinMaxScaler()</pre></div></div></div></div></div></div><div class=\"sk-parallel-item\"><div class=\"sk-item\"><div class=\"sk-label-container\"><div class=\"sk-label sk-toggleable\"><label>remainder</label></div></div><div class=\"sk-serial\"><div class=\"sk-item\"><div class=\"sk-estimator sk-toggleable\"><input class=\"sk-toggleable__control sk-hidden--visually\" id=\"51a39fd0-a6fa-4861-aee6-eaece8a9e801\" type=\"checkbox\" ><label class=\"sk-toggleable__label\" for=\"51a39fd0-a6fa-4861-aee6-eaece8a9e801\">passthrough</label><div class=\"sk-toggleable__content\"><pre>passthrough</pre></div></div></div></div></div></div></div></div><div class=\"sk-item\"><div class=\"sk-estimator sk-toggleable\"><input class=\"sk-toggleable__control sk-hidden--visually\" id=\"f5ae7ab3-8e5d-4fa7-aa7d-7c1746361ceb\" type=\"checkbox\" ><label class=\"sk-toggleable__label\" for=\"f5ae7ab3-8e5d-4fa7-aa7d-7c1746361ceb\">SelectKBest</label><div class=\"sk-toggleable__content\"><pre>SelectKBest(score_func=<function chi2 at 0x0000025D4F9CAF70>)</pre></div></div></div><div class=\"sk-item\"><div class=\"sk-estimator sk-toggleable\"><input class=\"sk-toggleable__control sk-hidden--visually\" id=\"8c67cbb3-874b-4646-81a2-d82a868954d1\" type=\"checkbox\" ><label class=\"sk-toggleable__label\" for=\"8c67cbb3-874b-4646-81a2-d82a868954d1\">RandomForestRegressor</label><div class=\"sk-toggleable__content\"><pre>RandomForestRegressor()</pre></div></div></div></div></div></div></div>"
      ],
      "text/plain": [
       "Pipeline(steps=[('tnfObj1',\n",
       "                 ColumnTransformer(remainder='passthrough',\n",
       "                                   transformers=[('impute_numirical',\n",
       "                                                  SimpleImputer(), [6]),\n",
       "                                                 ('impute_categorical',\n",
       "                                                  SimpleImputer(strategy='most_frequent'),\n",
       "                                                  [0, 1, 2, 3, 4, 5, 7, 8,\n",
       "                                                   9])])),\n",
       "                ('tnfObj2',\n",
       "                 ColumnTransformer(remainder='passthrough',\n",
       "                                   transformers=[('Ordinal_Encoder',\n",
       "                                                  OrdinalEncoder(categories=[['<=2L',\n",
       "                                                                              '2L-5L',\n",
       "                                                                              '5L-10L',\n",
       "                                                                              'M...\n",
       "                                                                              '10L'],\n",
       "                                                                             ['Silver',\n",
       "                                                                              'Gold',\n",
       "                                                                              'Platinum']]),\n",
       "                                                  [4, 9]),\n",
       "                                                 ('OneHot_Encoder',\n",
       "                                                  OneHotEncoder(drop='if_binary',\n",
       "                                                                sparse=False),\n",
       "                                                  [1, 2, 3, 8, 7])])),\n",
       "                ('tnfObj3',\n",
       "                 ColumnTransformer(remainder='passthrough',\n",
       "                                   transformers=[('MinMax_Scaler',\n",
       "                                                  MinMaxScaler(),\n",
       "                                                  slice(0, 14, None))])),\n",
       "                ('tnfObj4',\n",
       "                 SelectKBest(score_func=<function chi2 at 0x0000025D4F9CAF70>)),\n",
       "                ('tnfObj5', RandomForestRegressor())])"
      ]
     },
     "execution_count": 20,
     "metadata": {},
     "output_type": "execute_result"
    }
   ],
   "source": [
    "pipe.fit(x_train,y_train)"
   ]
  },
  {
   "cell_type": "code",
   "execution_count": 21,
   "id": "eef17a41",
   "metadata": {},
   "outputs": [
    {
     "data": {
      "text/html": [
       "<style>div.sk-top-container {color: black;background-color: white;}div.sk-toggleable {background-color: white;}label.sk-toggleable__label {cursor: pointer;display: block;width: 100%;margin-bottom: 0;padding: 0.2em 0.3em;box-sizing: border-box;text-align: center;}div.sk-toggleable__content {max-height: 0;max-width: 0;overflow: hidden;text-align: left;background-color: #f0f8ff;}div.sk-toggleable__content pre {margin: 0.2em;color: black;border-radius: 0.25em;background-color: #f0f8ff;}input.sk-toggleable__control:checked~div.sk-toggleable__content {max-height: 200px;max-width: 100%;overflow: auto;}div.sk-estimator input.sk-toggleable__control:checked~label.sk-toggleable__label {background-color: #d4ebff;}div.sk-label input.sk-toggleable__control:checked~label.sk-toggleable__label {background-color: #d4ebff;}input.sk-hidden--visually {border: 0;clip: rect(1px 1px 1px 1px);clip: rect(1px, 1px, 1px, 1px);height: 1px;margin: -1px;overflow: hidden;padding: 0;position: absolute;width: 1px;}div.sk-estimator {font-family: monospace;background-color: #f0f8ff;margin: 0.25em 0.25em;border: 1px dotted black;border-radius: 0.25em;box-sizing: border-box;}div.sk-estimator:hover {background-color: #d4ebff;}div.sk-parallel-item::after {content: \"\";width: 100%;border-bottom: 1px solid gray;flex-grow: 1;}div.sk-label:hover label.sk-toggleable__label {background-color: #d4ebff;}div.sk-serial::before {content: \"\";position: absolute;border-left: 1px solid gray;box-sizing: border-box;top: 2em;bottom: 0;left: 50%;}div.sk-serial {display: flex;flex-direction: column;align-items: center;background-color: white;}div.sk-item {z-index: 1;}div.sk-parallel {display: flex;align-items: stretch;justify-content: center;background-color: white;}div.sk-parallel-item {display: flex;flex-direction: column;position: relative;background-color: white;}div.sk-parallel-item:first-child::after {align-self: flex-end;width: 50%;}div.sk-parallel-item:last-child::after {align-self: flex-start;width: 50%;}div.sk-parallel-item:only-child::after {width: 0;}div.sk-dashed-wrapped {border: 1px dashed gray;margin: 0.2em;box-sizing: border-box;padding-bottom: 0.1em;background-color: white;position: relative;}div.sk-label label {font-family: monospace;font-weight: bold;background-color: white;display: inline-block;line-height: 1.2em;}div.sk-label-container {position: relative;z-index: 2;text-align: center;}div.sk-container {display: inline-block;position: relative;}</style><div class=\"sk-top-container\"><div class=\"sk-container\"><div class=\"sk-item sk-dashed-wrapped\"><div class=\"sk-label-container\"><div class=\"sk-label sk-toggleable\"><input class=\"sk-toggleable__control sk-hidden--visually\" id=\"29a24595-4962-42e3-bf60-000c11ab0ce3\" type=\"checkbox\" ><label class=\"sk-toggleable__label\" for=\"29a24595-4962-42e3-bf60-000c11ab0ce3\">ColumnTransformer</label><div class=\"sk-toggleable__content\"><pre>ColumnTransformer(remainder='passthrough',\n",
       "                  transformers=[('impute_numirical', SimpleImputer(), [6]),\n",
       "                                ('impute_categorical',\n",
       "                                 SimpleImputer(strategy='most_frequent'),\n",
       "                                 [0, 1, 2, 3, 4, 5, 7, 8, 9])])</pre></div></div></div><div class=\"sk-parallel\"><div class=\"sk-parallel-item\"><div class=\"sk-item\"><div class=\"sk-label-container\"><div class=\"sk-label sk-toggleable\"><input class=\"sk-toggleable__control sk-hidden--visually\" id=\"356bc738-d9c2-40e8-b404-c9c0faea6064\" type=\"checkbox\" ><label class=\"sk-toggleable__label\" for=\"356bc738-d9c2-40e8-b404-c9c0faea6064\">impute_numirical</label><div class=\"sk-toggleable__content\"><pre>[6]</pre></div></div></div><div class=\"sk-serial\"><div class=\"sk-item\"><div class=\"sk-estimator sk-toggleable\"><input class=\"sk-toggleable__control sk-hidden--visually\" id=\"4c3e5cf5-a295-4535-9987-58149eb03e74\" type=\"checkbox\" ><label class=\"sk-toggleable__label\" for=\"4c3e5cf5-a295-4535-9987-58149eb03e74\">SimpleImputer</label><div class=\"sk-toggleable__content\"><pre>SimpleImputer()</pre></div></div></div></div></div></div><div class=\"sk-parallel-item\"><div class=\"sk-item\"><div class=\"sk-label-container\"><div class=\"sk-label sk-toggleable\"><input class=\"sk-toggleable__control sk-hidden--visually\" id=\"4928b9f9-855f-4135-b6da-23ae65e9eee6\" type=\"checkbox\" ><label class=\"sk-toggleable__label\" for=\"4928b9f9-855f-4135-b6da-23ae65e9eee6\">impute_categorical</label><div class=\"sk-toggleable__content\"><pre>[0, 1, 2, 3, 4, 5, 7, 8, 9]</pre></div></div></div><div class=\"sk-serial\"><div class=\"sk-item\"><div class=\"sk-estimator sk-toggleable\"><input class=\"sk-toggleable__control sk-hidden--visually\" id=\"b841fc5f-38c5-4250-a1dc-0ddfeaa0212b\" type=\"checkbox\" ><label class=\"sk-toggleable__label\" for=\"b841fc5f-38c5-4250-a1dc-0ddfeaa0212b\">SimpleImputer</label><div class=\"sk-toggleable__content\"><pre>SimpleImputer(strategy='most_frequent')</pre></div></div></div></div></div></div><div class=\"sk-parallel-item\"><div class=\"sk-item\"><div class=\"sk-label-container\"><div class=\"sk-label sk-toggleable\"><input class=\"sk-toggleable__control sk-hidden--visually\" id=\"82a427a0-9c40-491e-8b26-4f95714ca6be\" type=\"checkbox\" ><label class=\"sk-toggleable__label\" for=\"82a427a0-9c40-491e-8b26-4f95714ca6be\">remainder</label><div class=\"sk-toggleable__content\"><pre>[['gender', 'area', 'qualification', 'income', 'marital_status', 'vintage', 'claim_amount', 'num_policies', 'policy', 'type_of_policy']]</pre></div></div></div><div class=\"sk-serial\"><div class=\"sk-item\"><div class=\"sk-estimator sk-toggleable\"><input class=\"sk-toggleable__control sk-hidden--visually\" id=\"c0655b02-12ed-47e9-bb2c-c5a503d8327c\" type=\"checkbox\" ><label class=\"sk-toggleable__label\" for=\"c0655b02-12ed-47e9-bb2c-c5a503d8327c\">passthrough</label><div class=\"sk-toggleable__content\"><pre>passthrough</pre></div></div></div></div></div></div></div></div></div></div>"
      ],
      "text/plain": [
       "ColumnTransformer(remainder='passthrough',\n",
       "                  transformers=[('impute_numirical', SimpleImputer(), [6]),\n",
       "                                ('impute_categorical',\n",
       "                                 SimpleImputer(strategy='most_frequent'),\n",
       "                                 [0, 1, 2, 3, 4, 5, 7, 8, 9])])"
      ]
     },
     "execution_count": 21,
     "metadata": {},
     "output_type": "execute_result"
    }
   ],
   "source": [
    "pipe.named_steps['tnfObj1']"
   ]
  },
  {
   "cell_type": "markdown",
   "id": "f1ba08f5",
   "metadata": {},
   "source": [
    "## 6. Performing prediction on test dataset"
   ]
  },
  {
   "cell_type": "code",
   "execution_count": 62,
   "id": "b0675c77",
   "metadata": {},
   "outputs": [
    {
     "data": {
      "text/html": [
       "<div>\n",
       "<style scoped>\n",
       "    .dataframe tbody tr th:only-of-type {\n",
       "        vertical-align: middle;\n",
       "    }\n",
       "\n",
       "    .dataframe tbody tr th {\n",
       "        vertical-align: top;\n",
       "    }\n",
       "\n",
       "    .dataframe thead th {\n",
       "        text-align: right;\n",
       "    }\n",
       "</style>\n",
       "<table border=\"1\" class=\"dataframe\">\n",
       "  <thead>\n",
       "    <tr style=\"text-align: right;\">\n",
       "      <th></th>\n",
       "      <th>id</th>\n",
       "      <th>gender</th>\n",
       "      <th>area</th>\n",
       "      <th>qualification</th>\n",
       "      <th>income</th>\n",
       "      <th>marital_status</th>\n",
       "      <th>vintage</th>\n",
       "      <th>claim_amount</th>\n",
       "      <th>num_policies</th>\n",
       "      <th>policy</th>\n",
       "      <th>type_of_policy</th>\n",
       "    </tr>\n",
       "  </thead>\n",
       "  <tbody>\n",
       "    <tr>\n",
       "      <th>0</th>\n",
       "      <td>89393</td>\n",
       "      <td>Female</td>\n",
       "      <td>Rural</td>\n",
       "      <td>High School</td>\n",
       "      <td>5L-10L</td>\n",
       "      <td>0</td>\n",
       "      <td>6</td>\n",
       "      <td>2134</td>\n",
       "      <td>More than 1</td>\n",
       "      <td>B</td>\n",
       "      <td>Silver</td>\n",
       "    </tr>\n",
       "    <tr>\n",
       "      <th>1</th>\n",
       "      <td>89394</td>\n",
       "      <td>Female</td>\n",
       "      <td>Urban</td>\n",
       "      <td>High School</td>\n",
       "      <td>2L-5L</td>\n",
       "      <td>0</td>\n",
       "      <td>4</td>\n",
       "      <td>4102</td>\n",
       "      <td>More than 1</td>\n",
       "      <td>A</td>\n",
       "      <td>Platinum</td>\n",
       "    </tr>\n",
       "    <tr>\n",
       "      <th>2</th>\n",
       "      <td>89395</td>\n",
       "      <td>Male</td>\n",
       "      <td>Rural</td>\n",
       "      <td>High School</td>\n",
       "      <td>5L-10L</td>\n",
       "      <td>1</td>\n",
       "      <td>7</td>\n",
       "      <td>2925</td>\n",
       "      <td>More than 1</td>\n",
       "      <td>B</td>\n",
       "      <td>Gold</td>\n",
       "    </tr>\n",
       "    <tr>\n",
       "      <th>3</th>\n",
       "      <td>89396</td>\n",
       "      <td>Female</td>\n",
       "      <td>Rural</td>\n",
       "      <td>Bachelor</td>\n",
       "      <td>More than 10L</td>\n",
       "      <td>1</td>\n",
       "      <td>2</td>\n",
       "      <td>0</td>\n",
       "      <td>More than 1</td>\n",
       "      <td>B</td>\n",
       "      <td>Silver</td>\n",
       "    </tr>\n",
       "    <tr>\n",
       "      <th>4</th>\n",
       "      <td>89397</td>\n",
       "      <td>Female</td>\n",
       "      <td>Urban</td>\n",
       "      <td>High School</td>\n",
       "      <td>2L-5L</td>\n",
       "      <td>0</td>\n",
       "      <td>5</td>\n",
       "      <td>14059</td>\n",
       "      <td>More than 1</td>\n",
       "      <td>B</td>\n",
       "      <td>Silver</td>\n",
       "    </tr>\n",
       "  </tbody>\n",
       "</table>\n",
       "</div>"
      ],
      "text/plain": [
       "      id  gender   area qualification         income  marital_status  vintage  \\\n",
       "0  89393  Female  Rural   High School         5L-10L               0        6   \n",
       "1  89394  Female  Urban   High School          2L-5L               0        4   \n",
       "2  89395    Male  Rural   High School         5L-10L               1        7   \n",
       "3  89396  Female  Rural      Bachelor  More than 10L               1        2   \n",
       "4  89397  Female  Urban   High School          2L-5L               0        5   \n",
       "\n",
       "   claim_amount num_policies policy type_of_policy  \n",
       "0          2134  More than 1      B         Silver  \n",
       "1          4102  More than 1      A       Platinum  \n",
       "2          2925  More than 1      B           Gold  \n",
       "3             0  More than 1      B         Silver  \n",
       "4         14059  More than 1      B         Silver  "
      ]
     },
     "execution_count": 62,
     "metadata": {},
     "output_type": "execute_result"
    }
   ],
   "source": [
    "test = pd.read_csv(\"test_koRSKBP.csv\")\n",
    "test.head()"
   ]
  },
  {
   "cell_type": "code",
   "execution_count": 63,
   "id": "98fdb06a",
   "metadata": {},
   "outputs": [],
   "source": [
    "# Extracting test sample labels\n",
    "test_id = test.pop('id')\n",
    "test_id = pd.DataFrame(test_id)\n",
    "x_test = test"
   ]
  },
  {
   "cell_type": "code",
   "execution_count": 65,
   "id": "1d369850",
   "metadata": {},
   "outputs": [
    {
     "data": {
      "text/html": [
       "<div>\n",
       "<style scoped>\n",
       "    .dataframe tbody tr th:only-of-type {\n",
       "        vertical-align: middle;\n",
       "    }\n",
       "\n",
       "    .dataframe tbody tr th {\n",
       "        vertical-align: top;\n",
       "    }\n",
       "\n",
       "    .dataframe thead th {\n",
       "        text-align: right;\n",
       "    }\n",
       "</style>\n",
       "<table border=\"1\" class=\"dataframe\">\n",
       "  <thead>\n",
       "    <tr style=\"text-align: right;\">\n",
       "      <th></th>\n",
       "      <th>gender</th>\n",
       "      <th>area</th>\n",
       "      <th>qualification</th>\n",
       "      <th>income</th>\n",
       "      <th>marital_status</th>\n",
       "      <th>vintage</th>\n",
       "      <th>claim_amount</th>\n",
       "      <th>num_policies</th>\n",
       "      <th>policy</th>\n",
       "      <th>type_of_policy</th>\n",
       "    </tr>\n",
       "  </thead>\n",
       "  <tbody>\n",
       "    <tr>\n",
       "      <th>0</th>\n",
       "      <td>Female</td>\n",
       "      <td>Rural</td>\n",
       "      <td>High School</td>\n",
       "      <td>5L-10L</td>\n",
       "      <td>0</td>\n",
       "      <td>6</td>\n",
       "      <td>2134</td>\n",
       "      <td>More than 1</td>\n",
       "      <td>B</td>\n",
       "      <td>Silver</td>\n",
       "    </tr>\n",
       "    <tr>\n",
       "      <th>1</th>\n",
       "      <td>Female</td>\n",
       "      <td>Urban</td>\n",
       "      <td>High School</td>\n",
       "      <td>2L-5L</td>\n",
       "      <td>0</td>\n",
       "      <td>4</td>\n",
       "      <td>4102</td>\n",
       "      <td>More than 1</td>\n",
       "      <td>A</td>\n",
       "      <td>Platinum</td>\n",
       "    </tr>\n",
       "    <tr>\n",
       "      <th>2</th>\n",
       "      <td>Male</td>\n",
       "      <td>Rural</td>\n",
       "      <td>High School</td>\n",
       "      <td>5L-10L</td>\n",
       "      <td>1</td>\n",
       "      <td>7</td>\n",
       "      <td>2925</td>\n",
       "      <td>More than 1</td>\n",
       "      <td>B</td>\n",
       "      <td>Gold</td>\n",
       "    </tr>\n",
       "    <tr>\n",
       "      <th>3</th>\n",
       "      <td>Female</td>\n",
       "      <td>Rural</td>\n",
       "      <td>Bachelor</td>\n",
       "      <td>More than 10L</td>\n",
       "      <td>1</td>\n",
       "      <td>2</td>\n",
       "      <td>0</td>\n",
       "      <td>More than 1</td>\n",
       "      <td>B</td>\n",
       "      <td>Silver</td>\n",
       "    </tr>\n",
       "    <tr>\n",
       "      <th>4</th>\n",
       "      <td>Female</td>\n",
       "      <td>Urban</td>\n",
       "      <td>High School</td>\n",
       "      <td>2L-5L</td>\n",
       "      <td>0</td>\n",
       "      <td>5</td>\n",
       "      <td>14059</td>\n",
       "      <td>More than 1</td>\n",
       "      <td>B</td>\n",
       "      <td>Silver</td>\n",
       "    </tr>\n",
       "  </tbody>\n",
       "</table>\n",
       "</div>"
      ],
      "text/plain": [
       "   gender   area qualification         income  marital_status  vintage  \\\n",
       "0  Female  Rural   High School         5L-10L               0        6   \n",
       "1  Female  Urban   High School          2L-5L               0        4   \n",
       "2    Male  Rural   High School         5L-10L               1        7   \n",
       "3  Female  Rural      Bachelor  More than 10L               1        2   \n",
       "4  Female  Urban   High School          2L-5L               0        5   \n",
       "\n",
       "   claim_amount num_policies policy type_of_policy  \n",
       "0          2134  More than 1      B         Silver  \n",
       "1          4102  More than 1      A       Platinum  \n",
       "2          2925  More than 1      B           Gold  \n",
       "3             0  More than 1      B         Silver  \n",
       "4         14059  More than 1      B         Silver  "
      ]
     },
     "execution_count": 65,
     "metadata": {},
     "output_type": "execute_result"
    }
   ],
   "source": [
    "x_test.head()"
   ]
  },
  {
   "cell_type": "code",
   "execution_count": 66,
   "id": "58a34b27",
   "metadata": {},
   "outputs": [],
   "source": [
    "y_pred = pipe.predict(x_test)\n",
    "y_pred = pd.DataFrame(y_pred,columns=[\"y_pred\"])"
   ]
  },
  {
   "cell_type": "code",
   "execution_count": 67,
   "id": "bbebff8d",
   "metadata": {},
   "outputs": [
    {
     "data": {
      "text/html": [
       "<div>\n",
       "<style scoped>\n",
       "    .dataframe tbody tr th:only-of-type {\n",
       "        vertical-align: middle;\n",
       "    }\n",
       "\n",
       "    .dataframe tbody tr th {\n",
       "        vertical-align: top;\n",
       "    }\n",
       "\n",
       "    .dataframe thead th {\n",
       "        text-align: right;\n",
       "    }\n",
       "</style>\n",
       "<table border=\"1\" class=\"dataframe\">\n",
       "  <thead>\n",
       "    <tr style=\"text-align: right;\">\n",
       "      <th></th>\n",
       "      <th>id</th>\n",
       "      <th>y_pred</th>\n",
       "    </tr>\n",
       "  </thead>\n",
       "  <tbody>\n",
       "    <tr>\n",
       "      <th>0</th>\n",
       "      <td>89393</td>\n",
       "      <td>100088.020031</td>\n",
       "    </tr>\n",
       "    <tr>\n",
       "      <th>1</th>\n",
       "      <td>89394</td>\n",
       "      <td>132983.969211</td>\n",
       "    </tr>\n",
       "    <tr>\n",
       "      <th>2</th>\n",
       "      <td>89395</td>\n",
       "      <td>88050.889541</td>\n",
       "    </tr>\n",
       "    <tr>\n",
       "      <th>3</th>\n",
       "      <td>89396</td>\n",
       "      <td>95072.408710</td>\n",
       "    </tr>\n",
       "    <tr>\n",
       "      <th>4</th>\n",
       "      <td>89397</td>\n",
       "      <td>119215.914603</td>\n",
       "    </tr>\n",
       "  </tbody>\n",
       "</table>\n",
       "</div>"
      ],
      "text/plain": [
       "      id         y_pred\n",
       "0  89393  100088.020031\n",
       "1  89394  132983.969211\n",
       "2  89395   88050.889541\n",
       "3  89396   95072.408710\n",
       "4  89397  119215.914603"
      ]
     },
     "execution_count": 67,
     "metadata": {},
     "output_type": "execute_result"
    }
   ],
   "source": [
    "result = pd.concat([test_id,y_pred], axis=1)\n",
    "result.head()"
   ]
  },
  {
   "cell_type": "code",
   "execution_count": 68,
   "id": "0f6f7d51",
   "metadata": {},
   "outputs": [],
   "source": [
    "result.to_csv('submission_Raj.csv', header=['id','cltv'], index=False)"
   ]
  },
  {
   "cell_type": "markdown",
   "id": "8aebaa2d",
   "metadata": {},
   "source": [
    "##### Complete!!"
   ]
  }
 ],
 "metadata": {
  "kernelspec": {
   "display_name": "Python 3",
   "language": "python",
   "name": "python3"
  },
  "language_info": {
   "codemirror_mode": {
    "name": "ipython",
    "version": 3
   },
   "file_extension": ".py",
   "mimetype": "text/x-python",
   "name": "python",
   "nbconvert_exporter": "python",
   "pygments_lexer": "ipython3",
   "version": "3.8.8"
  }
 },
 "nbformat": 4,
 "nbformat_minor": 5
}
